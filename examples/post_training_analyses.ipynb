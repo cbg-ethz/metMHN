{
 "cells": [
  {
   "cell_type": "markdown",
   "metadata": {},
   "source": [
    "# Post Training Analyses\n",
    "\n",
    "In this notebook we will demonstrate how to perform post training analyses as shown in our [manuscript](https://www.biorxiv.org/content/10.1101/2024.01.30.577989v1)."
   ]
  },
  {
   "cell_type": "code",
   "execution_count": 1,
   "metadata": {},
   "outputs": [
    {
     "name": "stderr",
     "output_type": "stream",
     "text": [
      "No GPU/TPU found, falling back to CPU. (Set TF_CPP_MIN_LOG_LEVEL=0 and rerun for more info.)\n"
     ]
    }
   ],
   "source": [
    "import pandas as pd\n",
    "import metmhn\n",
    "\n",
    "# load in mutation and annotation data\n",
    "mut_handle = \"../data/luad/G14_LUAD_Events.csv\"\n",
    "annot_handle = \"../data/luad/G14_LUAD_sampleSelection.csv\"\n",
    "log_theta_handle = \"../results/luad/luad_g14_cv_20muts_8cnvs.csv\"\n",
    "\n",
    "annot_data = pd.read_csv(annot_handle, index_col=0)\n",
    "mut_data = pd.read_csv(mut_handle, index_col=0)\n",
    "log_theta = pd.read_csv(log_theta_handle, index_col=0)"
   ]
  },
  {
   "cell_type": "markdown",
   "metadata": {},
   "source": [
    "metMHN allows us to reconstruct branched tumor histories:\n",
    "We can put in the a patient's genomic events and metMHN will compute the order in which they most probably occurred:"
   ]
  },
  {
   "cell_type": "code",
   "execution_count": null,
   "metadata": {},
   "outputs": [],
   "source": []
  }
 ],
 "metadata": {
  "kernelspec": {
   "display_name": ".venv",
   "language": "python",
   "name": "python3"
  },
  "language_info": {
   "codemirror_mode": {
    "name": "ipython",
    "version": 3
   },
   "file_extension": ".py",
   "mimetype": "text/x-python",
   "name": "python",
   "nbconvert_exporter": "python",
   "pygments_lexer": "ipython3",
   "version": "3.10.12"
  }
 },
 "nbformat": 4,
 "nbformat_minor": 2
}
