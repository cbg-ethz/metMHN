{
 "cells": [
  {
   "cell_type": "code",
   "execution_count": null,
   "metadata": {},
   "outputs": [],
   "source": [
    "import metmhn.regularized_optimization as reg_opt\n",
    "import metmhn.Utilityfunctions as utils\n",
    "\n",
    "import pandas as pd\n",
    "import warnings\n",
    "warnings.simplefilter(action='ignore', \n",
    "                      category=pd.errors.PerformanceWarning)\n",
    "\n",
    "import jax.numpy as jnp\n",
    "import numpy as np\n",
    "import jax as jax\n",
    "jax.config.update(\"jax_enable_x64\", True)\n",
    "import matplotlib.pyplot as plt\n",
    "import logging\n",
    "# Adapt path to where logs should be kept\n",
    "logging.basicConfig(filename='../logs/analysis_example.log',\n",
    "                    format='%(asctime)s %(levelname)-8s %(message)s',\n",
    "                    filemode='w', \n",
    "                    level=logging.INFO, \n",
    "                    force=True,\n",
    "                    datefmt='%Y-%m-%d %H:%M:%S'\n",
    "                    )"
   ]
  },
  {
   "attachments": {},
   "cell_type": "markdown",
   "metadata": {},
   "source": [
    "In the following example, we have information about the genotypes of Primary Tumors (PTs) and Metastases (MTs) for patients suffering from lung adenocarcinomas (LUADs). \\\n",
    "For some patients we only know the status of either the PT or the MT. This is indicated in our data in the column 'isPaired'. \\\n",
    "Additionally, the column 'metaStatus' indicates wether a metastasis was observed or not ('present', 'isMetastasis', 'absent'). \\\n",
    "This dataset contains mutations as well as copy number alterations. For this example we restrict this dataset to only contain mutations, such that it runs on average desktops on cpus only in ~20 minutes."
   ]
  },
  {
   "cell_type": "code",
   "execution_count": null,
   "metadata": {},
   "outputs": [],
   "source": [
    "mut_handle = \"../data/luad/G14_LUAD_Events.csv\"\n",
    "annot_handle = \"../data/luad/G14_LUAD_sampleSelection.csv\"\n",
    "annot_data = pd.read_csv(annot_handle)\n",
    "mut_data = pd.read_csv(mut_handle)\n",
    "mut_data.rename(columns={\"Unnamed: 0\":\"patientID\"}, inplace = True)\n",
    "dat = pd.merge(mut_data, annot_data.loc[:, ['patientID', 'metaStatus']], \n",
    "               on=[\"patientID\", \"patientID\"])\n",
    "muts = ['P.TP53 (M)', 'M.TP53 (M)', 'P.KRAS (M)', 'M.KRAS (M)', 'P.EGFR (M)', 'M.EGFR (M)', 'P.STK11 (M)', 'M.STK11 (M)', 'P.KEAP1 (M)', 'M.KEAP1 (M)', \n",
    "        'P.RBM10 (M)', 'M.RBM10 (M)', 'P.SMARCA4 (M)', 'M.SMARCA4 (M)', 'P.ATM (M)', 'M.ATM (M)', 'P.NF1 (M)', 'M.NF1 (M)', 'P.PTPRD (M)', 'M.PTPRD (M)', \n",
    "        'P.PTPRT (M)', 'M.PTPRT (M)', 'P.ARID1A (M)', 'M.ARID1A (M)', 'P.BRAF (M)', 'M.BRAF (M)', 'P.PIK3CA (M)', 'M.PIK3CA (M)', 'P.EPHA3 (M)', 'M.EPHA3 (M)', \n",
    "        'P.FAT1 (M)', 'M.FAT1 (M)', 'P.SETD2 (M)', 'M.SETD2 (M)', 'P.RB1 (M)', 'M.RB1 (M)', 'P.MET (M)', 'M.MET (M)', 'P.KMT2C (M)', 'M.KMT2C (M)']"
   ]
  },
  {
   "cell_type": "markdown",
   "metadata": {},
   "source": [
    "Next, we convert string labels to numeric labels and remove corrupted datapoints. Finally, we convert the resulting dataframe to a jax.numpy array."
   ]
  },
  {
   "cell_type": "code",
   "execution_count": null,
   "metadata": {},
   "outputs": [],
   "source": [
    "# Label each datapoint with a numeric value according to its sequencetype\n",
    "dat[\"type\"] = dat.apply(utils.categorize, axis=1)\n",
    "dat[\"Seeding\"] = dat.apply(utils.add_seeding, axis=1)\n",
    "dat.loc[dat[\"M.AgeAtSeqRep\"] == \"No metastasis included\", \"M.AgeAtSeqRep\"] = pd.NA\n",
    "dat.loc[dat[\"P.AgeAtSeqRep\"] == \"No primary included\", \"P.AgeAtSeqRep\"] = pd.NA\n",
    "dat[\"P.AgeAtSeqRep\"] = dat[\"P.AgeAtSeqRep\"].astype(pd.Int64Dtype())\n",
    "dat[\"M.AgeAtSeqRep\"] = dat[\"M.AgeAtSeqRep\"].astype(pd.Int64Dtype())\n",
    "dat[\"diag_order\"] = dat[\"M.AgeAtSeqRep\"] - dat[\"P.AgeAtSeqRep\"]\n",
    "dat[\"diag_order\"] = dat[\"diag_order\"].apply(lambda x: pd.NA if pd.isna(x) else 2 if x < 0 else 1 if x > 0 else 0) \n",
    "dat[\"diag_order\"] = dat[\"diag_order\"].astype(pd.Int64Dtype())\n",
    "events_data = muts+[\"Seeding\"]\n",
    "# Only use datapoints where the state of the metastasis is known\n",
    "cleaned = dat.loc[dat[\"type\"].isin([0,1,2,3]), muts+[\"Seeding\", \"diag_order\", \"type\"]]\n",
    "# Remove completely empty datapoints\n",
    "cleaned.drop(cleaned[cleaned.iloc[:,:-2].sum(axis=1)<1].index, inplace=True)\n",
    "dat = jnp.array(cleaned.to_numpy(dtype=np.int8, na_value=-99))"
   ]
  },
  {
   "attachments": {},
   "cell_type": "markdown",
   "metadata": {},
   "source": [
    "Retrieve the event names and trim the PT/MT identifier:"
   ]
  },
  {
   "cell_type": "code",
   "execution_count": null,
   "metadata": {},
   "outputs": [],
   "source": [
    "events_plot = []\n",
    "for elem in cleaned.columns[:-3].to_list()[::2]:\n",
    "    full_mut_id = elem.split(\".\")\n",
    "    events_plot.append(full_mut_id[1])\n",
    "events_plot.append(\"Seeding\")"
   ]
  },
  {
   "attachments": {},
   "cell_type": "markdown",
   "metadata": {},
   "source": [
    "Enumerate the frequencies of SNVs and CNVs in all subgroups. 'NM/EM' refer to Never Metastasizing/ Ever Metastasizing tumors, where only a single genotype is known. A Mutation is referred to as 'MT/PT-private' if happens exclusively in the MT or PT, otherwise it is called 'shared':"
   ]
  },
  {
   "cell_type": "code",
   "execution_count": null,
   "metadata": {},
   "outputs": [],
   "source": [
    "n_tot = (cleaned.shape[1]-1)//2 + 1\n",
    "n_mut = n_tot-1\n",
    "utils.marg_frequs(dat, events_plot)"
   ]
  },
  {
   "attachments": {},
   "cell_type": "markdown",
   "metadata": {},
   "source": [
    "Optional: We use a  sparsity and symmetry promoting penalty. The weight of the penalization can be determined in a k-fold crossvalidation. Note: Running the full 5-fold crossvalidation across 5 splits below takes around 2 hours on an average Desktop-CPU."
   ]
  },
  {
   "cell_type": "code",
   "execution_count": null,
   "metadata": {},
   "outputs": [],
   "source": [
    "log_lams = np.linspace(-3.5, -2.5, 5)\n",
    "m_p_corr = 0.65\n",
    "lams = 10**log_lams\n",
    "penal_weight, se = utils.cross_val(dat=dat, \n",
    "                               penal_fun=reg_opt.symmetric_penal, \n",
    "                               splits=lams, \n",
    "                               n_folds=5, \n",
    "                               m_p_corr=m_p_corr, \n",
    "                               seed=42)"
   ]
  },
  {
   "attachments": {},
   "cell_type": "markdown",
   "metadata": {},
   "source": [
    "Afterwards we can train an metMHN-model. The example below takes around 10 minutes to finish on average Desktop-CPU:"
   ]
  },
  {
   "cell_type": "code",
   "execution_count": null,
   "metadata": {},
   "outputs": [],
   "source": [
    "th_init, dp_init, dm_init = utils.indep(dat)\n",
    "theta, d_p, d_m= reg_opt.learn_mhn(th_init=th_init, \n",
    "                                   dp_init=dp_init,\n",
    "                                   dm_init=dm_init,\n",
    "                                   dat=dat,\n",
    "                                   perc_met=m_p_corr,\n",
    "                                   penal=reg_opt.symmetric_penal,\n",
    "                                   w_penal=penal_weight,\n",
    "                                   opt_ftol=1e-05\n",
    "                                   )"
   ]
  },
  {
   "attachments": {},
   "cell_type": "markdown",
   "metadata": {},
   "source": [
    "Visualize the results:"
   ]
  },
  {
   "cell_type": "code",
   "execution_count": null,
   "metadata": {},
   "outputs": [],
   "source": [
    "th_plot = np.row_stack((d_p.reshape((1,-1)), \n",
    "                        d_m.reshape((1,-1)), \n",
    "                        theta))\n",
    "fig, (ax1, ax2) = plt.subplots(1,2, sharey=\"col\", figsize=(14,9),\n",
    "                                gridspec_kw={'width_ratios': [n_tot, 1], \"wspace\": -0.6})\n",
    "utils.plot_theta(ax1, ax2, th_plot, events_plot, alpha=0.05, font_size=5)\n",
    "plt.show()"
   ]
  },
  {
   "cell_type": "code",
   "execution_count": null,
   "metadata": {},
   "outputs": [],
   "source": [
    "df2 = pd.DataFrame(th_plot, columns=events_plot)\n",
    "df2.to_csv(\"../results/luad/luad_g14_20muts.csv\")"
   ]
  }
 ],
 "metadata": {
  "kernelspec": {
   "display_name": "Python 3",
   "language": "python",
   "name": "python3"
  },
  "language_info": {
   "codemirror_mode": {
    "name": "ipython",
    "version": 3
   },
   "file_extension": ".py",
   "mimetype": "text/x-python",
   "name": "python",
   "nbconvert_exporter": "python",
   "pygments_lexer": "ipython3",
   "version": "3.11.1"
  },
  "orig_nbformat": 4,
  "vscode": {
   "interpreter": {
    "hash": "aee8b7b246df8f9039afb4144a1f6fd8d2ca17a180786b69acc140d282b71a49"
   }
  }
 },
 "nbformat": 4,
 "nbformat_minor": 2
}
