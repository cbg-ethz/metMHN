{
 "cells": [
  {
   "cell_type": "code",
   "execution_count": null,
   "metadata": {},
   "outputs": [],
   "source": [
    "import metmhn.regularized_optimization as reg_opt\n",
    "import metmhn.Utilityfunctions as utils\n",
    "import pandas as pd\n",
    "import jax.numpy as jnp\n",
    "import jax.random as jrp\n",
    "import numpy as np\n",
    "import jax as jax\n",
    "jax.config.update(\"jax_enable_x64\", True)\n",
    "import matplotlib.pyplot as plt\n",
    "import logging\n",
    "# Adapt path to where logs should be kept\n",
    "logging.basicConfig(filename='../logs/analysis_example.log',\n",
    "                    format='%(asctime)s %(levelname)-8s %(message)s',\n",
    "                    filemode='w', \n",
    "                    level=logging.INFO, \n",
    "                    force=True,\n",
    "                    datefmt='%Y-%m-%d %H:%M:%S'\n",
    "                    )"
   ]
  },
  {
   "attachments": {},
   "cell_type": "markdown",
   "metadata": {},
   "source": [
    "In the following example, we have information about the genotypes of Primary Tumors (PTs) and Metastases (MTs) for patients suffering from lung adenocarcinomas (LUADs). \\\n",
    "For some patients we only know the status of either the PT or the MT. This is indicated in our data in the column 'isPaired'. \\\n",
    "Additionally, the column 'metaStatus' indicates wether a metastasis was observed or not ('present', 'isMetastasis', 'absent'). \\\n",
    "This dataset contains mutations as well as copy number alterations. For this example we restrict this dataset to only contain mutations, such that it runs on average desktops on cpus only in ~20 minutes."
   ]
  },
  {
   "cell_type": "code",
   "execution_count": null,
   "metadata": {},
   "outputs": [],
   "source": [
    "mut_handle = \"../data/luad/G14_LUAD_Events.csv\"\n",
    "annot_handle = \"../data/luad/G14_LUAD_sampleSelection.csv\"\n",
    "annot_data = pd.read_csv(annot_handle)\n",
    "mut_data = pd.read_csv(mut_handle)\n",
    "mut_data.rename(columns={\"Unnamed: 0\":\"patientID\"}, inplace = True)\n",
    "dat = pd.merge(mut_data, annot_data.loc[:, ['patientID', 'metaStatus']], \n",
    "               on=[\"patientID\", \"patientID\"])\n",
    "muts = ['P.TP53 (M)', 'M.TP53 (M)', 'P.KRAS (M)', 'M.KRAS (M)', 'P.EGFR (M)', 'M.EGFR (M)', 'P.STK11 (M)', 'M.STK11 (M)', 'P.KEAP1 (M)', 'M.KEAP1 (M)', \n",
    "        'P.RBM10 (M)', 'M.RBM10 (M)', 'P.SMARCA4 (M)', 'M.SMARCA4 (M)', 'P.ATM (M)', 'M.ATM (M)', 'P.NF1 (M)', 'M.NF1 (M)', 'P.PTPRD (M)', 'M.PTPRD (M)', \n",
    "        'P.PTPRT (M)', 'M.PTPRT (M)', 'P.ARID1A (M)', 'M.ARID1A (M)', 'P.BRAF (M)', 'M.BRAF (M)', 'P.PIK3CA (M)', 'M.PIK3CA (M)', 'P.EPHA3 (M)', 'M.EPHA3 (M)', \n",
    "        'P.FAT1 (M)', 'M.FAT1 (M)', 'P.SETD2 (M)', 'M.SETD2 (M)', 'P.RB1 (M)', 'M.RB1 (M)', 'P.MET (M)', 'M.MET (M)', 'P.KMT2C (M)', 'M.KMT2C (M)']"
   ]
  },
  {
   "cell_type": "markdown",
   "metadata": {},
   "source": [
    "Next, we convert string labels to numeric labels and remove corrupted datapoints. Finally, we convert the resulting dataframe to a jax.numpy array."
   ]
  },
  {
   "cell_type": "code",
   "execution_count": null,
   "metadata": {},
   "outputs": [],
   "source": [
    "# Convert string labels to integer labels\n",
    "# \"Paired\" == 0 and  \"metastatus\" == \"absent\" -> 0\n",
    "# \"Paired\" == 0 and  \"metastatus\" == \"present\" -> 1\n",
    "# \"Paired\" == 0 and  \"metastatus\" == \"isMetastasis\" -> 2\n",
    "# \"Paired\" == 1 -> 3\n",
    "# Else -> pd.NA\n",
    "dat[\"type\"] = dat.apply(utils.categorize, axis=1)\n",
    "# Add the seeding event\n",
    "dat[\"Seeding\"] = dat[\"type\"].apply(lambda x: pd.NA if pd.isna(x) else 0 if x == 0 else 1)\n",
    "dat[\"M.AgeAtSeqRep\"] = pd.to_numeric(dat[\"M.AgeAtSeqRep\"], errors='coerce')\n",
    "dat[\"P.AgeAtSeqRep\"] = pd.to_numeric(dat[\"P.AgeAtSeqRep\"], errors='coerce')\n",
    "# Define the order of diagnosis for paired datapoints\n",
    "dat[\"diag_order\"] = dat[\"M.AgeAtSeqRep\"] - dat[\"P.AgeAtSeqRep\"]\n",
    "dat[\"diag_order\"] = dat[\"diag_order\"].apply(lambda x: pd.NA if pd.isna(x) else 2 if x < 0 else 1 if x > 0 else 0) \n",
    "dat[\"diag_order\"] = dat[\"diag_order\"].astype(pd.Int64Dtype())\n",
    "\n",
    "events_data = muts+[\"Seeding\"]\n",
    "\n",
    "# Only use datapoints where the state of the seeding is known\n",
    "cleaned = dat.loc[~pd.isna(dat[\"type\"]), muts+[\"Seeding\", \"diag_order\", \"type\"]]\n",
    "dat = jnp.array(cleaned.to_numpy(dtype=np.int8, na_value=-99))"
   ]
  },
  {
   "attachments": {},
   "cell_type": "markdown",
   "metadata": {},
   "source": [
    "Retrieve the event names and trim the PT/MT identifier:"
   ]
  },
  {
   "cell_type": "code",
   "execution_count": null,
   "metadata": {},
   "outputs": [],
   "source": [
    "events_plot = []\n",
    "for elem in cleaned.columns[:-3].to_list()[::2]:\n",
    "    full_mut_id = elem.split(\".\")\n",
    "    events_plot.append(full_mut_id[1])\n",
    "events_plot.append(\"Seeding\")"
   ]
  },
  {
   "attachments": {},
   "cell_type": "markdown",
   "metadata": {},
   "source": [
    "Enumerate the frequencies of SNVs and CNVs in all subgroups. 'NM/EM' refer to Never Metastasizing/ Ever Metastasizing tumors, where only a single genotype is known. A Mutation is referred to as 'MT/PT-private' if happens exclusively in the MT or PT, otherwise it is called 'shared':"
   ]
  },
  {
   "cell_type": "code",
   "execution_count": null,
   "metadata": {},
   "outputs": [],
   "source": [
    "n_tot = (cleaned.shape[1]-1)//2 + 1\n",
    "n_mut = n_tot-1\n",
    "utils.marg_frequs(dat, events_plot)"
   ]
  },
  {
   "cell_type": "markdown",
   "metadata": {},
   "source": [
    "Ever metastatic tumors and metastases were most likely prefferentially sampled in this dataset and are thus enriched compared to a standard population of cancer patients. We account for this by reweighting the contributions of ever metastatic patients to the likelihood by a factor $w_{corr}$. $W_{corr}$ should be chosen such, that it (approximately) reflects the percentage of ever metastatic tumors in a population of cancer patients. We use $w_{corr} = 0.65$ based on [Nguyen 2022](https://www.sciencedirect.com/science/article/pii/S0092867422000034#app2) Supplemental Table 1b."
   ]
  },
  {
   "cell_type": "code",
   "execution_count": null,
   "metadata": {},
   "outputs": [],
   "source": [
    "w_corr = 0.65"
   ]
  },
  {
   "attachments": {},
   "cell_type": "markdown",
   "metadata": {},
   "source": [
    "Optional: We use a  sparsity and symmetry promoting penalty. The weight of the penalization can be determined in a k-fold crossvalidation. Note: Running the full 5-fold crossvalidation across 5 splits below takes around 2 hours on an average Desktop-CPU."
   ]
  },
  {
   "cell_type": "code",
   "execution_count": null,
   "metadata": {},
   "outputs": [],
   "source": [
    "log_lams = np.linspace(-3.5, -2.5, 5)\n",
    "lams = 10**log_lams\n",
    "key = jrp.key(42)\n",
    "penal_weights = utils.cross_val(dat=dat, \n",
    "                               penal_fun=reg_opt.symmetric_penal, \n",
    "                               splits=lams, \n",
    "                               n_folds=5, \n",
    "                               m_p_corr=w_corr, \n",
    "                               key = key)\n",
    "\n",
    "# The cross_val function returns a n_folds x log_lams.size shaped dataframe\n",
    "best_lam = lams[np.argmax(np.mean(penal_weights, axis=0))]"
   ]
  },
  {
   "attachments": {},
   "cell_type": "markdown",
   "metadata": {},
   "source": [
    "Afterwards we can train an metMHN-model. The example below takes around 10-15 minutes to finish on average Desktop-CPU:"
   ]
  },
  {
   "cell_type": "code",
   "execution_count": null,
   "metadata": {},
   "outputs": [],
   "source": [
    "th_init, dp_init, dm_init = utils.indep(dat)\n",
    "theta, d_p, d_m= reg_opt.learn_mhn(th_init=th_init, \n",
    "                                   dp_init=dp_init,\n",
    "                                   dm_init=dm_init,\n",
    "                                   dat=dat,\n",
    "                                   perc_met=0.2,\n",
    "                                   penal=reg_opt.symmetric_penal,\n",
    "                                   w_penal=0.001,\n",
    "                                   opt_ftol=1e-05\n",
    "                                   )"
   ]
  },
  {
   "attachments": {},
   "cell_type": "markdown",
   "metadata": {},
   "source": [
    "Visualize the results:"
   ]
  },
  {
   "cell_type": "code",
   "execution_count": null,
   "metadata": {},
   "outputs": [],
   "source": [
    "th_plot = np.row_stack((d_p.reshape((1,-1)), \n",
    "                        d_m.reshape((1,-1)), \n",
    "                        theta))\n",
    "fig, (ax1, ax2) = plt.subplots(1,2, sharey=\"col\", figsize=(14,9),\n",
    "                                gridspec_kw={'width_ratios': [n_tot, 1], \"wspace\": -0.6})\n",
    "utils.plot_theta(ax1, ax2, th_plot, events_plot, alpha=0.2, font_size=5)\n",
    "plt.show()"
   ]
  },
  {
   "cell_type": "code",
   "execution_count": null,
   "metadata": {},
   "outputs": [],
   "source": [
    "df2 = pd.DataFrame(th_plot, columns=events_plot)\n",
    "df2.to_csv(\"../results/luad/luad_g14_20muts.csv\")"
   ]
  }
 ],
 "metadata": {
  "kernelspec": {
   "display_name": "Python 3",
   "language": "python",
   "name": "python3"
  },
  "language_info": {
   "codemirror_mode": {
    "name": "ipython",
    "version": 3
   },
   "file_extension": ".py",
   "mimetype": "text/x-python",
   "name": "python",
   "nbconvert_exporter": "python",
   "pygments_lexer": "ipython3",
   "version": "3.11.1"
  },
  "orig_nbformat": 4,
  "vscode": {
   "interpreter": {
    "hash": "aee8b7b246df8f9039afb4144a1f6fd8d2ca17a180786b69acc140d282b71a49"
   }
  }
 },
 "nbformat": 4,
 "nbformat_minor": 2
}
