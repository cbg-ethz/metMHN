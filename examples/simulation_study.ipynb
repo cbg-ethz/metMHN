{
 "cells": [
  {
   "cell_type": "code",
   "execution_count": null,
   "metadata": {},
   "outputs": [],
   "source": [
    "import metmhn.simulations as simul\n",
    "import metmhn.Utilityfunctions as utils\n",
    "import pandas as pd\n",
    "import numpy as np\n",
    "import jax as jax\n",
    "from jax import numpy as jnp\n",
    "jax.config.update(\"jax_enable_x64\", True)\n",
    "\n",
    "import matplotlib.pyplot as plt\n",
    "plt.rcParams['text.usetex'] = True"
   ]
  },
  {
   "attachments": {},
   "cell_type": "markdown",
   "metadata": {},
   "source": [
    "Read in the metMHN, learned on the reduced LUAD-dataset in `examples/data_analysis.pynb`:"
   ]
  },
  {
   "cell_type": "code",
   "execution_count": null,
   "metadata": {},
   "outputs": [],
   "source": [
    "params = pd.read_csv(\"../results/luad/luad_g14_20muts.csv\", index_col=0)\n",
    "d_p = params.iloc[0,:].to_numpy()\n",
    "d_m = params.iloc[1, :].to_numpy()\n",
    "th = params.iloc[2:,:].to_numpy()\n",
    "events = params.columns\n",
    "n = th.shape[1]\n",
    "rng = np.random.default_rng(seed=42)\n",
    "utils.plot_theta(params.to_numpy(), events, 0.2, True, 7.5)"
   ]
  },
  {
   "attachments": {},
   "cell_type": "markdown",
   "metadata": {},
   "source": [
    "Calculate $P(t_{mut} < t_{seed}| met[mut] = 1)$ i.e. the probability that a mutation happend prior to the seeding for both primary tumors and metastases:"
   ]
  },
  {
   "cell_type": "code",
   "execution_count": null,
   "metadata": {},
   "outputs": [],
   "source": [
    "mut_ps, mut_total_prim, mut_total_met = simul.p_any_mut_pre_seed(np.array(th), np.array(d_p), np.array(d_m), 50000, rng)"
   ]
  },
  {
   "cell_type": "code",
   "execution_count": null,
   "metadata": {},
   "outputs": [],
   "source": [
    "psp = pd.DataFrame(np.column_stack((mut_ps/mut_total_prim, mut_ps/mut_total_met)), \n",
    "                  index=events[:-1], columns=[\"PT\", \"MT\"])\n",
    "psp.sort_values(by=[\"MT\"], inplace=True)\n",
    "fig, ax = plt.subplots(figsize=(8.27, 11.69))\n",
    "\n",
    "plt.style.use(\"default\")\n",
    "ax.set_xlim(0,1)\n",
    "ax.axvline(0.5, color = \"#D55E00\", linestyle=\"dashed\")\n",
    "psp[\"MT\"].plot(kind=\"barh\", ax=ax, color=\"#D55E00\")\n",
    "ax.legend()"
   ]
  },
  {
   "cell_type": "markdown",
   "metadata": {},
   "source": [
    "Simulate synthetic data using Gillespie's algorithm and plot the marginal event frequencies:"
   ]
  },
  {
   "cell_type": "code",
   "execution_count": null,
   "metadata": {},
   "outputs": [],
   "source": [
    "dat = np.array(simul.simulate_dat_jax(jnp.array(th), jnp.array(d_p), jnp.array(d_m), 10000, seed = 4209090908979))\n",
    "dat_prim_nomet = dat[dat[:,-2]==0,:-1]\n",
    "dat_coupled = dat[dat[:,-2]==1,:-1]\n",
    "dat_pt_first = dat[dat[:, -1] != 2, :]"
   ]
  },
  {
   "cell_type": "code",
   "execution_count": null,
   "metadata": {},
   "outputs": [],
   "source": [
    "n_mut = (th.shape[0]-1)\n",
    "n_tot = n_mut + 1\n",
    "arr = dat_coupled * np.array([1,2]*n_mut+[1])\n",
    "arr = arr @ (np.diag([1,0]*n_mut+[1]) + np.diag([1,0]*n_mut, -1))\n",
    "\n",
    "counts = np.zeros((4, n_tot))\n",
    "for i in range(0,2*n_tot,2):\n",
    "    i_h = int(i/2)\n",
    "    for j in range(1,4):\n",
    "        counts[j-1, i_h] = np.count_nonzero(arr[:,i]==j)/dat_coupled.shape[0]\n",
    "    counts[3, i_h] = np.sum(dat_prim_nomet[:, i], axis=0)/dat_prim_nomet.shape[0]\n",
    "\n",
    "labels = [[\"Coupled (\"+str(dat_coupled.shape[0])+\")\"]*3 +\\\n",
    "        [\"NM (\"+str(dat_prim_nomet.shape[0])+\")\"],\n",
    "        [\"PT-Private\", \"MT-Private\", \"Shared\"] + [\"Present\"]*3]\n",
    "       \n",
    "inds =  pd.MultiIndex.from_tuples(list(zip(*labels)))\n",
    "counts = pd.DataFrame(np.around(counts, 2), columns=events, index=inds).T\n",
    "counts"
   ]
  },
  {
   "attachments": {},
   "cell_type": "markdown",
   "metadata": {},
   "source": [
    "Calculate $P(t_{mut} < t_{seed} | prim[mut] = met[mut] = 1)$ ie. the probability that a **shared** mutation between the primary tumor and the metastasis happened prior to the seeding:"
   ]
  },
  {
   "cell_type": "code",
   "execution_count": null,
   "metadata": {},
   "outputs": [],
   "source": [
    "mut_ps, mut_total = simul.p_shared_mut_pre_seed(th, d_p, d_m, 10000, rng)\n",
    "psp = pd.DataFrame(mut_ps/mut_total, index=events[:-1], columns=[\"Shared\"])\n",
    "psp.sort_values(by=[\"Shared\"], inplace=True)\n",
    "fig, ax = plt.subplots(figsize=(8.27, 11.69))\n",
    "plt.style.use(\"default\")\n",
    "ax.set_xlim(0,1)\n",
    "ax.axvline(0.5, color = \"#D55E00\", linestyle=\"dashed\")\n",
    "psp[\"Shared\"].plot(kind=\"barh\", color=\"#56B4E9\", ax=ax)\n",
    "ax.legend()"
   ]
  }
 ],
 "metadata": {
  "kernelspec": {
   "display_name": "Python 3",
   "language": "python",
   "name": "python3"
  },
  "language_info": {
   "codemirror_mode": {
    "name": "ipython",
    "version": 3
   },
   "file_extension": ".py",
   "mimetype": "text/x-python",
   "name": "python",
   "nbconvert_exporter": "python",
   "pygments_lexer": "ipython3",
   "version": "3.11.1"
  },
  "orig_nbformat": 4,
  "vscode": {
   "interpreter": {
    "hash": "aee8b7b246df8f9039afb4144a1f6fd8d2ca17a180786b69acc140d282b71a49"
   }
  }
 },
 "nbformat": 4,
 "nbformat_minor": 2
}
